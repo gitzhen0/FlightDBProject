{
 "cells": [
  {
   "metadata": {},
   "cell_type": "markdown",
   "source": [
    "find Los Angles Nearby airport (<1000km)\n",
    "\n",
    "```neo4j\n",
    "MATCH (a:Airport)\n",
    "WHERE point.distance(a.location, point({latitude: 34.05, longitude: -118.24})) < 1000000\n",
    "RETURN a.name, a.city\n",
    "```"
   ],
   "id": "c1e59c05c2652805"
  },
  {
   "metadata": {},
   "cell_type": "markdown",
   "source": [
    "top 10 most distant airport\n",
    "```neo4j\n",
    "MATCH (a1:Airport)-[r:FLIES_TO]->(a2:Airport)\n",
    "RETURN a1.name AS source,\n",
    "       a2.name AS destination,\n",
    "       distance(a1.location, a2.location)/1000 AS distance_km\n",
    "ORDER BY distance_km DESC\n",
    "LIMIT 10\n",
    "```"
   ],
   "id": "571e9e55d288b1b7"
  }
 ],
 "metadata": {
  "kernelspec": {
   "display_name": "Python 3",
   "language": "python",
   "name": "python3"
  },
  "language_info": {
   "codemirror_mode": {
    "name": "ipython",
    "version": 2
   },
   "file_extension": ".py",
   "mimetype": "text/x-python",
   "name": "python",
   "nbconvert_exporter": "python",
   "pygments_lexer": "ipython2",
   "version": "2.7.6"
  }
 },
 "nbformat": 4,
 "nbformat_minor": 5
}
